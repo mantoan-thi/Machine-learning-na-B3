{
  "nbformat": 4,
  "nbformat_minor": 0,
  "metadata": {
    "kernelspec": {
      "display_name": "Python 3",
      "language": "python",
      "name": "python3"
    },
    "language_info": {
      "codemirror_mode": {
        "name": "ipython",
        "version": 3
      },
      "file_extension": ".py",
      "mimetype": "text/x-python",
      "name": "python",
      "nbconvert_exporter": "python",
      "pygments_lexer": "ipython3",
      "version": "3.8.5"
    },
    "colab": {
      "name": "Prevendo Preço de Ações com Deep Learning (LSTM).ipynb",
      "provenance": [],
      "include_colab_link": true
    }
  },
  "cells": [
    {
      "cell_type": "markdown",
      "metadata": {
        "id": "view-in-github",
        "colab_type": "text"
      },
      "source": [
        "<a href=\"https://colab.research.google.com/github/mantoan-thi/Machine_learning_na_B3/blob/main/Prevendo_Pre%C3%A7o_de_A%C3%A7%C3%B5es_com_Deep_Learning_(LSTM).ipynb\" target=\"_parent\"><img src=\"https://colab.research.google.com/assets/colab-badge.svg\" alt=\"Open In Colab\"/></a>"
      ]
    },
    {
      "cell_type": "code",
      "metadata": {
        "id": "1KH9_-YLsQea"
      },
      "source": [
        "import yfinance as yf\n",
        "import pandas as pd\n",
        "import numpy as np\n",
        "import matplotlib.pyplot as plt\n",
        "from sklearn.ensemble import GradientBoostingClassifier\n",
        "from sklearn.linear_model import LogisticRegression\n",
        "from sklearn.model_selection import train_test_split\n",
        "from sklearn.preprocessing import StandardScaler\n",
        "from sklearn.metrics import classification_report\n",
        "from sklearn.metrics import confusion_matrix\n",
        "from sklearn.neural_network import MLPClassifier\n",
        "from sklearn.neighbors import KNeighborsClassifier\n",
        "from sklearn.svm import SVC\n",
        "from sklearn.gaussian_process import GaussianProcessClassifier\n",
        "from sklearn.gaussian_process.kernels import RBF\n",
        "from sklearn.tree import DecisionTreeClassifier\n",
        "from sklearn.ensemble import RandomForestClassifier, AdaBoostClassifier\n",
        "from sklearn.naive_bayes import GaussianNB\n",
        "from sklearn.discriminant_analysis import QuadraticDiscriminantAnalysis\n",
        "from sklearn.tree import DecisionTreeClassifier\n",
        "from talib.abstract import *\n",
        "%matplotlib inline"
      ],
      "execution_count": null,
      "outputs": []
    },
    {
      "cell_type": "code",
      "metadata": {
        "id": "RVH4K8ibsQef"
      },
      "source": [
        "Stock = pd.DataFrame(yf.Ticker('ITUB4.SA').history(period = '2y'))\n",
        "Stock['M21'] = Stock['Close'].rolling(14).mean()\n",
        "Stock['Dvp'] = Stock['M21'].rolling(7).std()"
      ],
      "execution_count": null,
      "outputs": []
    },
    {
      "cell_type": "code",
      "metadata": {
        "id": "sRrzFei7sQef"
      },
      "source": [
        "Stock['ho'] = Stock['High'] - Stock['Open'] # distance between Highest and Opening price\n",
        "Stock['lo'] = Stock['Low'] - Stock['Open'] # distance between Lowest and Opening price\n",
        "Stock['Dvp_lo'] = Stock['lo'].rolling(7).std()\n",
        "Stock['Dvp_ho'] = Stock['ho'].rolling(7).std()\n",
        "Stock['Gain'] = Stock['Close'].pct_change()"
      ],
      "execution_count": null,
      "outputs": []
    },
    {
      "cell_type": "code",
      "metadata": {
        "id": "VbaC_hulsQeg",
        "outputId": "a39c0730-89d8-4a36-97c7-bf5bbe75296b"
      },
      "source": [
        "Stock['New_Gain_Acum'] = Stock['Gain'].cumsum()\n",
        "Stock['New_Gain_Acum'].plot()"
      ],
      "execution_count": null,
      "outputs": [
        {
          "output_type": "execute_result",
          "data": {
            "text/plain": [
              "<AxesSubplot:xlabel='Date'>"
            ]
          },
          "metadata": {
            "tags": []
          },
          "execution_count": 520
        },
        {
          "output_type": "display_data",
          "data": {
            "image/png": "[encoded data removed]",
            "text/plain": [
              "<Figure size 432x288 with 1 Axes>"
            ]
          },
          "metadata": {
            "tags": [],
            "needs_background": "light"
          }
        }
      ]
    },
    {
      "cell_type": "code",
      "metadata": {
        "id": "UoL-Y6hCsQeh",
        "outputId": "6ac26afb-1f93-4ade-b273-699aea30b6bf"
      },
      "source": [
        "Stock['Dir'] = np.where(Stock['Close'] > Stock['Open'],1,-1)\n",
        "Stock['Dir'] = Stock['Dir'].shift(-1)\n",
        "Stock.dropna(inplace=True)\n",
        "Stock.head()"
      ],
      "execution_count": null,
      "outputs": [
        {
          "output_type": "execute_result",
          "data": {
            "text/html": [
              "<div>\n",
              "<style scoped>\n",
              "    .dataframe tbody tr th:only-of-type {\n",
              "        vertical-align: middle;\n",
              "    }\n",
              "\n",
              "    .dataframe tbody tr th {\n",
              "        vertical-align: top;\n",
              "    }\n",
              "\n",
              "    .dataframe thead th {\n",
              "        text-align: right;\n",
              "    }\n",
              "</style>\n",
              "<table border=\"1\" class=\"dataframe\">\n",
              "  <thead>\n",
              "    <tr style=\"text-align: right;\">\n",
              "      <th></th>\n",
              "      <th>Open</th>\n",
              "      <th>High</th>\n",
              "      <th>Low</th>\n",
              "      <th>Close</th>\n",
              "      <th>Volume</th>\n",
              "      <th>Dividends</th>\n",
              "      <th>Stock Splits</th>\n",
              "      <th>M21</th>\n",
              "      <th>Dvp</th>\n",
              "      <th>ho</th>\n",
              "      <th>lo</th>\n",
              "      <th>Dvp_lo</th>\n",
              "      <th>Dvp_ho</th>\n",
              "      <th>Gain</th>\n",
              "      <th>Dir</th>\n",
              "    </tr>\n",
              "    <tr>\n",
              "      <th>Date</th>\n",
              "      <th></th>\n",
              "      <th></th>\n",
              "      <th></th>\n",
              "      <th></th>\n",
              "      <th></th>\n",
              "      <th></th>\n",
              "      <th></th>\n",
              "      <th></th>\n",
              "      <th></th>\n",
              "      <th></th>\n",
              "      <th></th>\n",
              "      <th></th>\n",
              "      <th></th>\n",
              "      <th></th>\n",
              "      <th></th>\n",
              "    </tr>\n",
              "  </thead>\n",
              "  <tbody>\n",
              "    <tr>\n",
              "      <th>2019-06-10</th>\n",
              "      <td>32.859774</td>\n",
              "      <td>32.878632</td>\n",
              "      <td>32.162036</td>\n",
              "      <td>32.652340</td>\n",
              "      <td>18283400</td>\n",
              "      <td>0.0</td>\n",
              "      <td>0</td>\n",
              "      <td>32.389228</td>\n",
              "      <td>0.416874</td>\n",
              "      <td>0.018858</td>\n",
              "      <td>-0.697738</td>\n",
              "      <td>0.258444</td>\n",
              "      <td>0.192319</td>\n",
              "      <td>-0.012546</td>\n",
              "      <td>-1.0</td>\n",
              "    </tr>\n",
              "    <tr>\n",
              "      <th>2019-06-11</th>\n",
              "      <td>32.859781</td>\n",
              "      <td>32.982358</td>\n",
              "      <td>32.284620</td>\n",
              "      <td>32.812637</td>\n",
              "      <td>29136500</td>\n",
              "      <td>0.0</td>\n",
              "      <td>0</td>\n",
              "      <td>32.471018</td>\n",
              "      <td>0.364207</td>\n",
              "      <td>0.122577</td>\n",
              "      <td>-0.575161</td>\n",
              "      <td>0.232494</td>\n",
              "      <td>0.149552</td>\n",
              "      <td>0.004909</td>\n",
              "      <td>-1.0</td>\n",
              "    </tr>\n",
              "    <tr>\n",
              "      <th>2019-06-12</th>\n",
              "      <td>32.812629</td>\n",
              "      <td>33.114354</td>\n",
              "      <td>32.501477</td>\n",
              "      <td>32.624050</td>\n",
              "      <td>17637000</td>\n",
              "      <td>0.0</td>\n",
              "      <td>0</td>\n",
              "      <td>32.544050</td>\n",
              "      <td>0.305217</td>\n",
              "      <td>0.301725</td>\n",
              "      <td>-0.311152</td>\n",
              "      <td>0.240391</td>\n",
              "      <td>0.157816</td>\n",
              "      <td>-0.005747</td>\n",
              "      <td>-1.0</td>\n",
              "    </tr>\n",
              "    <tr>\n",
              "      <th>2019-06-13</th>\n",
              "      <td>32.576907</td>\n",
              "      <td>32.605196</td>\n",
              "      <td>31.784878</td>\n",
              "      <td>32.039459</td>\n",
              "      <td>36877200</td>\n",
              "      <td>0.0</td>\n",
              "      <td>0</td>\n",
              "      <td>32.608986</td>\n",
              "      <td>0.244652</td>\n",
              "      <td>0.028289</td>\n",
              "      <td>-0.792029</td>\n",
              "      <td>0.270864</td>\n",
              "      <td>0.165604</td>\n",
              "      <td>-0.017919</td>\n",
              "      <td>1.0</td>\n",
              "    </tr>\n",
              "    <tr>\n",
              "      <th>2019-06-14</th>\n",
              "      <td>31.964029</td>\n",
              "      <td>32.124319</td>\n",
              "      <td>31.568012</td>\n",
              "      <td>32.048889</td>\n",
              "      <td>18775100</td>\n",
              "      <td>0.0</td>\n",
              "      <td>0</td>\n",
              "      <td>32.666516</td>\n",
              "      <td>0.184717</td>\n",
              "      <td>0.160290</td>\n",
              "      <td>-0.396016</td>\n",
              "      <td>0.245272</td>\n",
              "      <td>0.159351</td>\n",
              "      <td>0.000294</td>\n",
              "      <td>1.0</td>\n",
              "    </tr>\n",
              "  </tbody>\n",
              "</table>\n",
              "</div>"
            ],
            "text/plain": [
              "                 Open       High        Low      Close    Volume  Dividends  \\\n",
              "Date                                                                          \n",
              "2019-06-10  32.859774  32.878632  32.162036  32.652340  18283400        0.0   \n",
              "2019-06-11  32.859781  32.982358  32.284620  32.812637  29136500        0.0   \n",
              "2019-06-12  32.812629  33.114354  32.501477  32.624050  17637000        0.0   \n",
              "2019-06-13  32.576907  32.605196  31.784878  32.039459  36877200        0.0   \n",
              "2019-06-14  31.964029  32.124319  31.568012  32.048889  18775100        0.0   \n",
              "\n",
              "            Stock Splits        M21       Dvp        ho        lo    Dvp_lo  \\\n",
              "Date                                                                          \n",
              "2019-06-10             0  32.389228  0.416874  0.018858 -0.697738  0.258444   \n",
              "2019-06-11             0  32.471018  0.364207  0.122577 -0.575161  0.232494   \n",
              "2019-06-12             0  32.544050  0.305217  0.301725 -0.311152  0.240391   \n",
              "2019-06-13             0  32.608986  0.244652  0.028289 -0.792029  0.270864   \n",
              "2019-06-14             0  32.666516  0.184717  0.160290 -0.396016  0.245272   \n",
              "\n",
              "              Dvp_ho      Gain  Dir  \n",
              "Date                                 \n",
              "2019-06-10  0.192319 -0.012546 -1.0  \n",
              "2019-06-11  0.149552  0.004909 -1.0  \n",
              "2019-06-12  0.157816 -0.005747 -1.0  \n",
              "2019-06-13  0.165604 -0.017919  1.0  \n",
              "2019-06-14  0.159351  0.000294  1.0  "
            ]
          },
          "metadata": {
            "tags": []
          },
          "execution_count": 491
        }
      ]
    },
    {
      "cell_type": "code",
      "metadata": {
        "id": "2UXMLANvsQei"
      },
      "source": [
        "y = np.array(Stock[['Dir']])\n",
        "X = Stock.drop(['Dir','Gain','Dividends','Stock Splits'],axis=1)"
      ],
      "execution_count": null,
      "outputs": []
    },
    {
      "cell_type": "code",
      "metadata": {
        "id": "lOhO3zbJsQei"
      },
      "source": [
        "scaler = StandardScaler()\n",
        "X= scaler.fit_transform(X)"
      ],
      "execution_count": null,
      "outputs": []
    },
    {
      "cell_type": "code",
      "metadata": {
        "id": "gLjH1OYZsQei"
      },
      "source": [
        "X_train, X_test, y_train, y_test = train_test_split(X, y, test_size=0.33, random_state=22)"
      ],
      "execution_count": null,
      "outputs": []
    },
    {
      "cell_type": "code",
      "metadata": {
        "id": "_AvllPyisQej"
      },
      "source": [
        "h = .02  # step size in the mesh\n",
        "\n",
        "names = [\"Nearest Neighbors\", \"Linear SVM\", \"RBF SVM\", \"Gaussian Process\",\n",
        "         \"Decision Tree\", \"Random Forest\", \"Neural Net\", \"AdaBoost\",\n",
        "         \"Naive Bayes\", \"QDA\",\"DecisionTree\",\n",
        "         'LogisticRegression']\n",
        "classifiers = [\n",
        "    KNeighborsClassifier(5),\n",
        "    SVC(kernel=\"linear\", C=0.025),\n",
        "    SVC(gamma=2, C=1),\n",
        "    GaussianProcessClassifier(1.0 * RBF(1.0)),\n",
        "    DecisionTreeClassifier(max_depth=2),\n",
        "    RandomForestClassifier(max_depth=2, n_estimators=10, max_features=1),\n",
        "    MLPClassifier(alpha=1, max_iter=1000),\n",
        "    AdaBoostClassifier(),\n",
        "    GaussianNB(),\n",
        "    QuadraticDiscriminantAnalysis(),\n",
        "    DecisionTreeClassifier(random_state=0),\n",
        "    LogisticRegression(max_iter=10,random_state=0,solver = 'liblinear')]"
      ],
      "execution_count": null,
      "outputs": []
    },
    {
      "cell_type": "code",
      "metadata": {
        "id": "7cHWsOZ3sQej",
        "outputId": "2884582f-ad12-433b-f46a-2b585b786a0a"
      },
      "source": [
        "# iterate over classifiers\n",
        "for name, clf in zip(names, classifiers):\n",
        "    clf.fit(X_train, y_train)\n",
        "    score = clf.score(X_test, y_test)\n",
        "    pred = clf.predict(X_test)\n",
        "    print('Modelo:', name,' // Score: {0:0.2%}'.format(score))\n",
        "    #print('Report:',classification_report(y_test,pred))\n",
        "    #print('\\nConfusion:',confusion_matrix(y_test,pred))"
      ],
      "execution_count": null,
      "outputs": [
        {
          "output_type": "stream",
          "text": [
            "<ipython-input-496-b825ae128603>:3: DataConversionWarning: A column-vector y was passed when a 1d array was expected. Please change the shape of y to (n_samples, ), for example using ravel().\n",
            "  clf.fit(X_train, y_train)\n",
            "C:\\Users\\Thiago\\anaconda3\\lib\\site-packages\\sklearn\\utils\\validation.py:72: DataConversionWarning: A column-vector y was passed when a 1d array was expected. Please change the shape of y to (n_samples, ), for example using ravel().\n",
            "  return f(**kwargs)\n",
            "C:\\Users\\Thiago\\anaconda3\\lib\\site-packages\\sklearn\\utils\\validation.py:72: DataConversionWarning: A column-vector y was passed when a 1d array was expected. Please change the shape of y to (n_samples, ), for example using ravel().\n",
            "  return f(**kwargs)\n",
            "C:\\Users\\Thiago\\anaconda3\\lib\\site-packages\\sklearn\\utils\\validation.py:72: DataConversionWarning: A column-vector y was passed when a 1d array was expected. Please change the shape of y to (n_samples, ), for example using ravel().\n",
            "  return f(**kwargs)\n"
          ],
          "name": "stderr"
        },
        {
          "output_type": "stream",
          "text": [
            "Modelo: Nearest Neighbors  // Score: 50.96%\n",
            "Modelo: Linear SVM  // Score: 56.69%\n",
            "Modelo: RBF SVM  // Score: 56.05%\n",
            "Modelo: Gaussian Process  // Score: 57.32%\n",
            "Modelo: Decision Tree  // Score: 58.60%\n",
            "Modelo: Random Forest  // Score: 59.24%\n"
          ],
          "name": "stdout"
        },
        {
          "output_type": "stream",
          "text": [
            "<ipython-input-496-b825ae128603>:3: DataConversionWarning: A column-vector y was passed when a 1d array was expected. Please change the shape of y to (n_samples,), for example using ravel().\n",
            "  clf.fit(X_train, y_train)\n",
            "C:\\Users\\Thiago\\anaconda3\\lib\\site-packages\\sklearn\\utils\\validation.py:72: DataConversionWarning: A column-vector y was passed when a 1d array was expected. Please change the shape of y to (n_samples, ), for example using ravel().\n",
            "  return f(**kwargs)\n"
          ],
          "name": "stderr"
        },
        {
          "output_type": "stream",
          "text": [
            "Modelo: Neural Net  // Score: 59.24%\n",
            "Modelo: AdaBoost  // Score: 53.50%\n",
            "Modelo: Naive Bayes  // Score: 56.05%\n"
          ],
          "name": "stdout"
        },
        {
          "output_type": "stream",
          "text": [
            "C:\\Users\\Thiago\\anaconda3\\lib\\site-packages\\sklearn\\utils\\validation.py:72: DataConversionWarning: A column-vector y was passed when a 1d array was expected. Please change the shape of y to (n_samples, ), for example using ravel().\n",
            "  return f(**kwargs)\n",
            "C:\\Users\\Thiago\\anaconda3\\lib\\site-packages\\sklearn\\utils\\validation.py:72: DataConversionWarning: A column-vector y was passed when a 1d array was expected. Please change the shape of y to (n_samples, ), for example using ravel().\n",
            "  return f(**kwargs)\n"
          ],
          "name": "stderr"
        },
        {
          "output_type": "stream",
          "text": [
            "Modelo: QDA  // Score: 53.50%\n",
            "Modelo: DecisionTree  // Score: 48.41%\n",
            "Modelo: LogisticRegression  // Score: 57.96%\n"
          ],
          "name": "stdout"
        },
        {
          "output_type": "stream",
          "text": [
            "C:\\Users\\Thiago\\anaconda3\\lib\\site-packages\\sklearn\\utils\\validation.py:72: DataConversionWarning: A column-vector y was passed when a 1d array was expected. Please change the shape of y to (n_samples, ), for example using ravel().\n",
            "  return f(**kwargs)\n",
            "C:\\Users\\Thiago\\anaconda3\\lib\\site-packages\\sklearn\\discriminant_analysis.py:715: UserWarning: Variables are collinear\n",
            "  warnings.warn(\"Variables are collinear\")\n",
            "C:\\Users\\Thiago\\anaconda3\\lib\\site-packages\\sklearn\\utils\\validation.py:72: DataConversionWarning: A column-vector y was passed when a 1d array was expected. Please change the shape of y to (n_samples, ), for example using ravel().\n",
            "  return f(**kwargs)\n"
          ],
          "name": "stderr"
        }
      ]
    },
    {
      "cell_type": "code",
      "metadata": {
        "id": "4jotALJEsQek"
      },
      "source": [
        "Stock['Gain_acum'] = Stock['Gain']*1000"
      ],
      "execution_count": null,
      "outputs": []
    },
    {
      "cell_type": "code",
      "metadata": {
        "id": "-mzT9mhPsQek",
        "outputId": "8d7e16d0-d7d7-46d3-c3d1-7c2ca97d6177"
      },
      "source": [
        "Dt = LogisticRegression(max_iter=10,random_state=0,solver = 'liblinear')\n",
        "Dt.fit(X_train, y_train)\n",
        "score = Dt.score(X_test, y_test)\n",
        "pred = Dt.predict(X_test)\n",
        "print('Modelo:', name,' // Score: {0:0.2%}'.format(score))"
      ],
      "execution_count": null,
      "outputs": [
        {
          "output_type": "stream",
          "text": [
            "Modelo: LogisticRegression  // Score: 57.96%\n"
          ],
          "name": "stdout"
        },
        {
          "output_type": "stream",
          "text": [
            "C:\\Users\\Thiago\\anaconda3\\lib\\site-packages\\sklearn\\utils\\validation.py:72: DataConversionWarning: A column-vector y was passed when a 1d array was expected. Please change the shape of y to (n_samples, ), for example using ravel().\n",
            "  return f(**kwargs)\n"
          ],
          "name": "stderr"
        }
      ]
    },
    {
      "cell_type": "code",
      "metadata": {
        "id": "0zSBTvbasQek"
      },
      "source": [
        "pred = rf.predict(X)"
      ],
      "execution_count": null,
      "outputs": []
    },
    {
      "cell_type": "code",
      "metadata": {
        "id": "2jkrwk6msQel"
      },
      "source": [
        "dados = pd.DataFrame()\n",
        "dados['Dir'] = Stock['Dir']\n",
        "dados['Dir_previsto'] = pred\n",
        "dados['Gain_acum'] = Stock['Gain_acum'].abs()\n",
        "dados['Close'] = Stock['Close']"
      ],
      "execution_count": null,
      "outputs": []
    },
    {
      "cell_type": "code",
      "metadata": {
        "id": "4vxyCOMrsQel"
      },
      "source": [
        "dados['Ckeck'] = np.where(dados['Dir'] == dados['Dir_previsto'],1,-1)"
      ],
      "execution_count": null,
      "outputs": []
    },
    {
      "cell_type": "code",
      "metadata": {
        "id": "iv2wOOe2sQel"
      },
      "source": [
        "dados['Ckeck'] = dados['Ckeck'].shift()\n",
        "dados.dropna(inplace=True)"
      ],
      "execution_count": null,
      "outputs": []
    },
    {
      "cell_type": "code",
      "metadata": {
        "id": "1aK2KgFTsQel",
        "outputId": "f4350bb8-bc47-4fc2-fa25-cc59cd3b9aab"
      },
      "source": [
        "dados.head()"
      ],
      "execution_count": null,
      "outputs": [
        {
          "output_type": "execute_result",
          "data": {
            "text/html": [
              "<div>\n",
              "<style scoped>\n",
              "    .dataframe tbody tr th:only-of-type {\n",
              "        vertical-align: middle;\n",
              "    }\n",
              "\n",
              "    .dataframe tbody tr th {\n",
              "        vertical-align: top;\n",
              "    }\n",
              "\n",
              "    .dataframe thead th {\n",
              "        text-align: right;\n",
              "    }\n",
              "</style>\n",
              "<table border=\"1\" class=\"dataframe\">\n",
              "  <thead>\n",
              "    <tr style=\"text-align: right;\">\n",
              "      <th></th>\n",
              "      <th>Dir</th>\n",
              "      <th>Dir_previsto</th>\n",
              "      <th>Gain_acum</th>\n",
              "      <th>Close</th>\n",
              "      <th>Ckeck</th>\n",
              "    </tr>\n",
              "    <tr>\n",
              "      <th>Date</th>\n",
              "      <th></th>\n",
              "      <th></th>\n",
              "      <th></th>\n",
              "      <th></th>\n",
              "      <th></th>\n",
              "    </tr>\n",
              "  </thead>\n",
              "  <tbody>\n",
              "    <tr>\n",
              "      <th>2019-06-12</th>\n",
              "      <td>-1.0</td>\n",
              "      <td>-1.0</td>\n",
              "      <td>5.747395</td>\n",
              "      <td>32.624050</td>\n",
              "      <td>1.0</td>\n",
              "    </tr>\n",
              "    <tr>\n",
              "      <th>2019-06-13</th>\n",
              "      <td>1.0</td>\n",
              "      <td>-1.0</td>\n",
              "      <td>17.919017</td>\n",
              "      <td>32.039459</td>\n",
              "      <td>1.0</td>\n",
              "    </tr>\n",
              "    <tr>\n",
              "      <th>2019-06-14</th>\n",
              "      <td>1.0</td>\n",
              "      <td>-1.0</td>\n",
              "      <td>0.294322</td>\n",
              "      <td>32.048889</td>\n",
              "      <td>1.0</td>\n",
              "    </tr>\n",
              "    <tr>\n",
              "      <th>2019-06-17</th>\n",
              "      <td>1.0</td>\n",
              "      <td>1.0</td>\n",
              "      <td>1.177062</td>\n",
              "      <td>32.011166</td>\n",
              "      <td>-1.0</td>\n",
              "    </tr>\n",
              "    <tr>\n",
              "      <th>2019-06-18</th>\n",
              "      <td>1.0</td>\n",
              "      <td>-1.0</td>\n",
              "      <td>25.920645</td>\n",
              "      <td>32.840916</td>\n",
              "      <td>-1.0</td>\n",
              "    </tr>\n",
              "  </tbody>\n",
              "</table>\n",
              "</div>"
            ],
            "text/plain": [
              "            Dir  Dir_previsto  Gain_acum      Close  Ckeck\n",
              "Date                                                      \n",
              "2019-06-12 -1.0          -1.0   5.747395  32.624050    1.0\n",
              "2019-06-13  1.0          -1.0  17.919017  32.039459    1.0\n",
              "2019-06-14  1.0          -1.0   0.294322  32.048889    1.0\n",
              "2019-06-17  1.0           1.0   1.177062  32.011166   -1.0\n",
              "2019-06-18  1.0          -1.0  25.920645  32.840916   -1.0"
            ]
          },
          "metadata": {
            "tags": []
          },
          "execution_count": 515
        }
      ]
    },
    {
      "cell_type": "code",
      "metadata": {
        "id": "RxRyZ1X-sQem",
        "outputId": "54115db8-85d7-42c2-e6f1-7c4ededf2115"
      },
      "source": [
        "dados['Saldo'] = dados['Ckeck'] * dados['Gain_acum']\n",
        "dados"
      ],
      "execution_count": null,
      "outputs": [
        {
          "output_type": "execute_result",
          "data": {
            "text/html": [
              "<div>\n",
              "<style scoped>\n",
              "    .dataframe tbody tr th:only-of-type {\n",
              "        vertical-align: middle;\n",
              "    }\n",
              "\n",
              "    .dataframe tbody tr th {\n",
              "        vertical-align: top;\n",
              "    }\n",
              "\n",
              "    .dataframe thead th {\n",
              "        text-align: right;\n",
              "    }\n",
              "</style>\n",
              "<table border=\"1\" class=\"dataframe\">\n",
              "  <thead>\n",
              "    <tr style=\"text-align: right;\">\n",
              "      <th></th>\n",
              "      <th>Dir</th>\n",
              "      <th>Dir_previsto</th>\n",
              "      <th>Gain_acum</th>\n",
              "      <th>Close</th>\n",
              "      <th>Ckeck</th>\n",
              "      <th>Saldo</th>\n",
              "    </tr>\n",
              "    <tr>\n",
              "      <th>Date</th>\n",
              "      <th></th>\n",
              "      <th></th>\n",
              "      <th></th>\n",
              "      <th></th>\n",
              "      <th></th>\n",
              "      <th></th>\n",
              "    </tr>\n",
              "  </thead>\n",
              "  <tbody>\n",
              "    <tr>\n",
              "      <th>2019-06-12</th>\n",
              "      <td>-1.0</td>\n",
              "      <td>-1.0</td>\n",
              "      <td>5.747395</td>\n",
              "      <td>32.624050</td>\n",
              "      <td>1.0</td>\n",
              "      <td>5.747395</td>\n",
              "    </tr>\n",
              "    <tr>\n",
              "      <th>2019-06-13</th>\n",
              "      <td>1.0</td>\n",
              "      <td>-1.0</td>\n",
              "      <td>17.919017</td>\n",
              "      <td>32.039459</td>\n",
              "      <td>1.0</td>\n",
              "      <td>17.919017</td>\n",
              "    </tr>\n",
              "    <tr>\n",
              "      <th>2019-06-14</th>\n",
              "      <td>1.0</td>\n",
              "      <td>-1.0</td>\n",
              "      <td>0.294322</td>\n",
              "      <td>32.048889</td>\n",
              "      <td>1.0</td>\n",
              "      <td>0.294322</td>\n",
              "    </tr>\n",
              "    <tr>\n",
              "      <th>2019-06-17</th>\n",
              "      <td>1.0</td>\n",
              "      <td>1.0</td>\n",
              "      <td>1.177062</td>\n",
              "      <td>32.011166</td>\n",
              "      <td>-1.0</td>\n",
              "      <td>-1.177062</td>\n",
              "    </tr>\n",
              "    <tr>\n",
              "      <th>2019-06-18</th>\n",
              "      <td>1.0</td>\n",
              "      <td>-1.0</td>\n",
              "      <td>25.920645</td>\n",
              "      <td>32.840916</td>\n",
              "      <td>-1.0</td>\n",
              "      <td>-25.920645</td>\n",
              "    </tr>\n",
              "    <tr>\n",
              "      <th>...</th>\n",
              "      <td>...</td>\n",
              "      <td>...</td>\n",
              "      <td>...</td>\n",
              "      <td>...</td>\n",
              "      <td>...</td>\n",
              "      <td>...</td>\n",
              "    </tr>\n",
              "    <tr>\n",
              "      <th>2021-05-07</th>\n",
              "      <td>1.0</td>\n",
              "      <td>-1.0</td>\n",
              "      <td>12.087910</td>\n",
              "      <td>27.629999</td>\n",
              "      <td>1.0</td>\n",
              "      <td>12.087910</td>\n",
              "    </tr>\n",
              "    <tr>\n",
              "      <th>2021-05-10</th>\n",
              "      <td>1.0</td>\n",
              "      <td>-1.0</td>\n",
              "      <td>14.839007</td>\n",
              "      <td>28.040001</td>\n",
              "      <td>-1.0</td>\n",
              "      <td>-14.839007</td>\n",
              "    </tr>\n",
              "    <tr>\n",
              "      <th>2021-05-11</th>\n",
              "      <td>-1.0</td>\n",
              "      <td>-1.0</td>\n",
              "      <td>2.139849</td>\n",
              "      <td>27.980000</td>\n",
              "      <td>-1.0</td>\n",
              "      <td>-2.139849</td>\n",
              "    </tr>\n",
              "    <tr>\n",
              "      <th>2021-05-12</th>\n",
              "      <td>1.0</td>\n",
              "      <td>-1.0</td>\n",
              "      <td>14.653319</td>\n",
              "      <td>27.570000</td>\n",
              "      <td>-1.0</td>\n",
              "      <td>-14.653319</td>\n",
              "    </tr>\n",
              "    <tr>\n",
              "      <th>2021-05-13</th>\n",
              "      <td>1.0</td>\n",
              "      <td>-1.0</td>\n",
              "      <td>29.017089</td>\n",
              "      <td>28.370001</td>\n",
              "      <td>1.0</td>\n",
              "      <td>29.017089</td>\n",
              "    </tr>\n",
              "  </tbody>\n",
              "</table>\n",
              "<p>473 rows × 6 columns</p>\n",
              "</div>"
            ],
            "text/plain": [
              "            Dir  Dir_previsto  Gain_acum      Close  Ckeck      Saldo\n",
              "Date                                                                 \n",
              "2019-06-12 -1.0          -1.0   5.747395  32.624050    1.0   5.747395\n",
              "2019-06-13  1.0          -1.0  17.919017  32.039459    1.0  17.919017\n",
              "2019-06-14  1.0          -1.0   0.294322  32.048889    1.0   0.294322\n",
              "2019-06-17  1.0           1.0   1.177062  32.011166   -1.0  -1.177062\n",
              "2019-06-18  1.0          -1.0  25.920645  32.840916   -1.0 -25.920645\n",
              "...         ...           ...        ...        ...    ...        ...\n",
              "2021-05-07  1.0          -1.0  12.087910  27.629999    1.0  12.087910\n",
              "2021-05-10  1.0          -1.0  14.839007  28.040001   -1.0 -14.839007\n",
              "2021-05-11 -1.0          -1.0   2.139849  27.980000   -1.0  -2.139849\n",
              "2021-05-12  1.0          -1.0  14.653319  27.570000   -1.0 -14.653319\n",
              "2021-05-13  1.0          -1.0  29.017089  28.370001    1.0  29.017089\n",
              "\n",
              "[473 rows x 6 columns]"
            ]
          },
          "metadata": {
            "tags": []
          },
          "execution_count": 516
        }
      ]
    },
    {
      "cell_type": "code",
      "metadata": {
        "id": "Y3jxBsPGsQem"
      },
      "source": [
        "dados['Saldo_acum'] = dados['Saldo'].cumsum()"
      ],
      "execution_count": null,
      "outputs": []
    },
    {
      "cell_type": "code",
      "metadata": {
        "id": "LPcbyQYfsQem",
        "outputId": "f9300d3c-9994-4f77-c6a0-41923b08e1db"
      },
      "source": [
        "dados['Saldo_acum'].plot(figsize=(12,8))"
      ],
      "execution_count": null,
      "outputs": [
        {
          "output_type": "execute_result",
          "data": {
            "text/plain": [
              "<AxesSubplot:xlabel='Date'>"
            ]
          },
          "metadata": {
            "tags": []
          },
          "execution_count": 519
        },
        {
          "output_type": "display_data",
          "data": {
            "image/png": "[encoded data removed]",
            "text/plain": [
              "<Figure size 864x576 with 1 Axes>"
            ]
          },
          "metadata": {
            "tags": [],
            "needs_background": "light"
          }
        }
      ]
    },
    {
      "cell_type": "code",
      "metadata": {
        "id": "tHHAIVFxsQem"
      },
      "source": [
        ""
      ],
      "execution_count": null,
      "outputs": []
    }
  ]
}